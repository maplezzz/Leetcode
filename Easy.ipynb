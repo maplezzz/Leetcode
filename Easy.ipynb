{
 "cells": [
  {
   "cell_type": "markdown",
   "metadata": {},
   "source": [
    "## 1.Two Sum  \n",
    "\n",
    "Given an array of integers, return indices of the two numbers such that they add up to a specific target.  \n",
    "\n",
    "You may assume that each input would have exactly one solution, and you may not use the same element twice.  \n",
    "\n",
    "Example:  \n",
    "```\n",
    "Given nums = [2, 7, 11, 15], target = 9,\n",
    "\n",
    "Because nums[0] + nums[1] = 2 + 7 = 9,\n",
    "return [0, 1].\n",
    "```"
   ]
  },
  {
   "cell_type": "markdown",
   "metadata": {},
   "source": [
    "```python\n",
    "class Solution:\n",
    "    def twoSum(self, nums: List[int], target: int) -> List[int]:\n",
    "        ans = {}\n",
    "        for i, x in enumerate(nums):\n",
    "            if x in ans:\n",
    "                return [ans[x], i]\n",
    "            else:\n",
    "                ans[(target - x)] = i\n",
    "                \n",
    "```"
   ]
  },
  {
   "cell_type": "markdown",
   "metadata": {},
   "source": [
    "**_result_**: \n",
    "Runtime: 40 ms, faster than 79.03% of Python3 online submissions for Two Sum.\n",
    "Memory Usage: 14.7 MB, less than 5.08% of Python3 online submissions for Two Sum."
   ]
  },
  {
   "cell_type": "markdown",
   "metadata": {},
   "source": [
    "**_Tips:_** x in dict much faster than dict.get(x)"
   ]
  },
  {
   "cell_type": "markdown",
   "metadata": {},
   "source": [
    "## 7. Reverse Integer  \n",
    "\n",
    "Example 1:  \n",
    "```\n",
    "Input: 123\n",
    "Output: 321\n",
    "```\n",
    "\n",
    "Example 2:  \n",
    "```\n",
    "Input: -123\n",
    "Output: -321\n",
    "```\n",
    "\n",
    "Example 3:\n",
    "```\n",
    "Input: 120\n",
    "Output: 21\n",
    "```\n",
    "Note:\n",
    "Assume we are dealing with an environment which could only store integers within the 32-bit signed integer range: [−231,  231 − 1]. For the purpose of this problem, assume that your function returns 0 when the reversed integer overflows."
   ]
  },
  {
   "cell_type": "markdown",
   "metadata": {},
   "source": [
    "```python\n",
    "class Solution:\n",
    "    def reverse(self, x: int) -> int:\n",
    "        ans = int(str(abs(x))[::-1])\n",
    "        if ans > 2**31-1:\n",
    "            return 0\n",
    "        if x >=0:\n",
    "            return ans\n",
    "        else:\n",
    "            return -ans\n",
    "```"
   ]
  },
  {
   "cell_type": "markdown",
   "metadata": {},
   "source": [
    "**_result_:**  Runtime: 52 ms, faster than 83.85% of Python3 online submissions for Reverse Integer.\n",
    "Memory Usage: 13.3 MB, less than 5.71% of Python3 online submissions for Reverse Integer."
   ]
  },
  {
   "cell_type": "markdown",
   "metadata": {},
   "source": [
    "## 9. Palindrome Number  \n",
    "\n",
    "Determine whether an integer is a palindrome. An integer is a palindrome when it reads the same backward as forward.\n",
    "\n",
    "Example 1:\n",
    "```\n",
    "Input: 121\n",
    "Output: true\n",
    "```\n",
    "Example 2:\n",
    "```\n",
    "Input: -121\n",
    "Output: false\n",
    "Explanation: From left to right, it reads -121. From right to left, it becomes 121-. Therefore it is not a palindrome.\n",
    "```\n",
    "Example 3:\n",
    "```\n",
    "Input: 10\n",
    "Output: false\n",
    "Explanation: Reads 01 from right to left. Therefore it is not a palindrome.\n",
    "```"
   ]
  },
  {
   "cell_type": "markdown",
   "metadata": {},
   "source": [
    "```python\n",
    "class Solution:\n",
    "    def isPalindrome(self, x: int) -> bool:\n",
    "        return str(x) == str(x)[::-1]\n",
    "```"
   ]
  },
  {
   "cell_type": "markdown",
   "metadata": {},
   "source": [
    "**_result_:** Runtime: 244 ms, faster than 78.81% of Python3 online submissions for Palindrome Number.\n",
    "Memory Usage: 13.3 MB, less than 5.03% of Python3 online submissions for Palindrome Number."
   ]
  },
  {
   "cell_type": "markdown",
   "metadata": {},
   "source": [
    "## 13. Roman to Integer\n",
    "\n",
    "Roman numerals are represented by seven different symbols: I, V, X, L, C, D and M.\n",
    "```\n",
    "Symbol       Value\n",
    "I             1\n",
    "V             5\n",
    "X             10\n",
    "L             50\n",
    "C             100\n",
    "D             500\n",
    "M             1000\n",
    "```\n",
    "For example, two is written as II in Roman numeral, just two one's added together. Twelve is written as, XII, which is simply X + II. The number twenty seven is written as XXVII, which is XX + V + II.\n",
    "\n",
    "Roman numerals are usually written largest to smallest from left to right. However, the numeral for four is not IIII. Instead, the number four is written as IV. Because the one is before the five we subtract it making four. The same principle applies to the number nine, which is written as IX. There are six instances where subtraction is used:\n",
    "\n",
    "I can be placed before V (5) and X (10) to make 4 and 9. \n",
    "X can be placed before L (50) and C (100) to make 40 and 90. \n",
    "C can be placed before D (500) and M (1000) to make 400 and 900.\n",
    "Given a roman numeral, convert it to an integer. Input is guaranteed to be within the range from 1 to 3999.\n",
    "\n",
    "Example 1:\n",
    "```\n",
    "Input: \"III\"\n",
    "Output: 3\n",
    "```\n",
    "Example 2:\n",
    "```\n",
    "Input: \"IV\"\n",
    "Output: 4\n",
    "```\n",
    "Example 3:\n",
    "```\n",
    "Input: \"IX\"\n",
    "Output: 9\n",
    "```\n",
    "Example 4:\n",
    "```\n",
    "Input: \"LVIII\"\n",
    "Output: 58\n",
    "Explanation: L = 50, V= 5, III = 3.\n",
    "```\n",
    "Example 5:\n",
    "```\n",
    "Input: \"MCMXCIV\"\n",
    "Output: 1994\n",
    "Explanation: M = 1000, CM = 900, XC = 90 and IV = 4.\n",
    "```"
   ]
  },
  {
   "cell_type": "markdown",
   "metadata": {},
   "source": [
    "```python\n",
    "class Solution:\n",
    "    def romanToInt(self, s: str) -> int:\n",
    "        r_d = {'I':1, 'V':5, \"X\":10, \"L\":50, \"C\":100, \"D\":500, \"M\":1000}\n",
    "        result = r_d[s[-1]]\n",
    "        \n",
    "        for i in range(len(s)-1):\n",
    "            result += -r_d[s[i]] if r_d[s[i]] < r_d[s[i+1]] else r_d[s[i]]\n",
    "            \n",
    "        return result\n",
    "```"
   ]
  },
  {
   "cell_type": "markdown",
   "metadata": {},
   "source": [
    "**_result:_** Runtime: 128 ms, faster than 70.02% of Python3 online submissions for Roman to Integer.\n",
    "Memory Usage: 13.3 MB, less than 5.05% of Python3 online submissions for Roman to Integer.\n",
    "\n",
    "**_tips:_** The key is if str[i] < str[i+1] means str[i] negeative"
   ]
  },
  {
   "cell_type": "markdown",
   "metadata": {},
   "source": [
    "## 14. Longest Common Prefix\n",
    "\n",
    "Write a function to find the longest common prefix string amongst an array of strings.\n",
    "\n",
    "If there is no common prefix, return an empty string \"\".\n",
    "\n",
    "Example 1:\n",
    "```\n",
    "Input: [\"flower\",\"flow\",\"flight\"]\n",
    "Output: \"fl\"\n",
    "```\n",
    "Example 2:\n",
    "```\n",
    "Input: [\"dog\",\"racecar\",\"car\"]\n",
    "Output: \"\"\n",
    "Explanation: There is no common prefix among the input strings.\n",
    "```\n",
    "Note:\n",
    "\n",
    "All given inputs are in lowercase letters a-z."
   ]
  },
  {
   "cell_type": "markdown",
   "metadata": {},
   "source": [
    "```python\n",
    "class Solution:\n",
    "    def longestCommonPrefix(self, strs: List[str]) -> str:  \n",
    "        pre = ''\n",
    "        if not strs:\n",
    "            return pre\n",
    "        strs.sort()\n",
    "        first = strs[0]\n",
    "        last = strs[-1]\n",
    "        for a, b in zip(first, last):\n",
    "            if a == b:\n",
    "                pre += a\n",
    "            else:\n",
    "                return pre\n",
    "            \n",
    "        return pre\n",
    "```"
   ]
  },
  {
   "cell_type": "markdown",
   "metadata": {},
   "source": [
    "**_result_:** Runtime: 40 ms, faster than 71.61% of Python3 online submissions for Longest Common Prefix.\n",
    "Memory Usage: 13.3 MB, less than 5.10% of Python3 online submissions for Longest Common Prefix.\n",
    "    \n",
    "**_tips_:** sort the list and only need to compare the first and last one, use zip to pythonic the code"
   ]
  },
  {
   "cell_type": "markdown",
   "metadata": {},
   "source": [
    "## 20. Valid Parentheses\n",
    "\n",
    "Given a string containing just the characters '(', ')', '{', '}', '[' and ']', determine if the input string is valid.\n",
    "\n",
    "An input string is valid if:\n",
    "\n",
    "Open brackets must be closed by the same type of brackets.\n",
    "Open brackets must be closed in the correct order.\n",
    "Note that an empty string is also considered valid.\n",
    "\n",
    "Example 1:\n",
    "```\n",
    "Input: \"()\"\n",
    "Output: true\n",
    "```\n",
    "Example 2:\n",
    "```\n",
    "Input: \"()[]{}\"\n",
    "Output: true\n",
    "```\n",
    "Example 3:\n",
    "```\n",
    "Input: \"(]\"\n",
    "Output: false\n",
    "```\n",
    "Example 4:\n",
    "```\n",
    "Input: \"([)]\"\n",
    "Output: false\n",
    "```\n",
    "Example 5:\n",
    "```\n",
    "Input: \"{[]}\"\n",
    "Output: true\n",
    "```"
   ]
  },
  {
   "cell_type": "markdown",
   "metadata": {},
   "source": [
    "```python\n",
    "class Solution:\n",
    "    def isValid(self, s: str) -> bool:\n",
    "        if s == None or len(s) % 2 != 0:\n",
    "            return False\n",
    "        \n",
    "        if s == '':\n",
    "            return True\n",
    "        \n",
    "        dict_p = {')':'(', '}':'{', ']':'['}\n",
    "        \n",
    "        stack = []\n",
    "        \n",
    "        for char in s:\n",
    "            if char in dict_p.values():\n",
    "                stack.append(char)\n",
    "            elif char in dict_p:\n",
    "                if stack == []:\n",
    "                    return False\n",
    "                if stack.pop() != dict_p[char]:\n",
    "                    return False\n",
    "            else:\n",
    "                return False\n",
    "                \n",
    "        if stack == []:\n",
    "            return True\n",
    "        else:\n",
    "            return False\n",
    "```"
   ]
  },
  {
   "cell_type": "markdown",
   "metadata": {},
   "source": [
    "**_result:_**: Runtime: 40 ms, faster than 52.87% of Python3 online submissions for Valid Parentheses.\n",
    "Memory Usage: 13.1 MB, less than 5.22% of Python3 online submissions for Valid Parentheses.  \n",
    "\n",
    "**_tips_:** stack"
   ]
  },
  {
   "cell_type": "markdown",
   "metadata": {},
   "source": [
    "## 21. Merge Two Sorted Lists\n",
    "\n",
    "Merge two sorted linked lists and return it as a new list. The new list should be made by splicing together the nodes of the first two lists.\n",
    "\n",
    "Example:\n",
    "```\n",
    "Input: 1->2->4, 1->3->4\n",
    "Output: 1->1->2->3->4->4\n",
    "```"
   ]
  },
  {
   "cell_type": "markdown",
   "metadata": {},
   "source": [
    "```python\n",
    "# Definition for singly-linked list.\n",
    "# class ListNode:\n",
    "#     def __init__(self, x):\n",
    "#         self.val = x\n",
    "#         self.next = None\n",
    "\n",
    "class Solution:\n",
    "    def mergeTwoLists(self, l1: ListNode, l2: ListNode) -> ListNode:\n",
    "        if not l1 or not l2:\n",
    "            return l1 or l2\n",
    "        \n",
    "        if l1.val < l2.val:\n",
    "            l1.next = self.mergeTwoLists(l1.next, l2)\n",
    "            return l1\n",
    "        else:\n",
    "            l2.next = self.mergeTwoLists(l2.next, l1)\n",
    "            return l2\n",
    "```"
   ]
  },
  {
   "cell_type": "markdown",
   "metadata": {},
   "source": [
    "**_result:_** Runtime: 48 ms, faster than 60.64% of Python3 online submissions for Merge Two Sorted Lists.\n",
    "Memory Usage: 13.2 MB, less than 5.06% of Python3 online submissions for Merge Two Sorted Lists.  \n",
    "\n",
    "**_tips:_** recursive"
   ]
  },
  {
   "cell_type": "markdown",
   "metadata": {},
   "source": [
    "## 26. Remove Duplicates from Sorted Array\n",
    "\n",
    "Given a sorted array nums, remove the duplicates in-place such that each element appear only once and return the new length.\n",
    "\n",
    "Do not allocate extra space for another array, you must do this by modifying the input array in-place with O(1) extra memory.\n",
    "\n",
    "Example 1:\n",
    "```\n",
    "Given nums = [1,1,2],\n",
    "\n",
    "Your function should return length = 2, with the first two elements of nums being 1 and 2 respectively.\n",
    "\n",
    "It doesn't matter what you leave beyond the returned length.\n",
    "```\n",
    "Example 2:\n",
    "```\n",
    "Given nums = [0,0,1,1,1,2,2,3,3,4],\n",
    "\n",
    "Your function should return length = 5, with the first five elements of nums being modified to 0, 1, 2, 3, and 4 respectively.\n",
    "\n",
    "It doesn't matter what values are set beyond the returned length.\n",
    "```\n",
    "Clarification:\n",
    "```\n",
    "Confused why the returned value is an integer but your answer is an array?\n",
    "\n",
    "Note that the input array is passed in by reference, which means modification to the input array will be known to the caller as well.\n",
    "\n",
    "Internally you can think of this:\n",
    "\n",
    "// nums is passed in by reference. (i.e., without making a copy)\n",
    "int len = removeDuplicates(nums);\n",
    "\n",
    "// any modification to nums in your function would be known by the caller.\n",
    "// using the length returned by your function, it prints the first len elements.\n",
    "for (int i = 0; i < len; i++) {\n",
    "    print(nums[i]);\n",
    "}\n",
    "\n",
    "```"
   ]
  },
  {
   "cell_type": "markdown",
   "metadata": {},
   "source": [
    "```python\n",
    "class Solution:\n",
    "    def removeDuplicates(self, nums: List[int]) -> int:\n",
    "        if nums == []:\n",
    "            return 0\n",
    "        if len(nums) == 1:\n",
    "            return 1\n",
    "        pos = 0\n",
    "        for i in range(1,len(nums)):\n",
    "            if nums[i] > nums[pos]:\n",
    "                pos += 1\n",
    "                nums[pos] = nums[i]\n",
    "        return pos+1\n",
    "\n",
    "```\n",
    "pythonic way:  \n",
    "```python\n",
    "class Solution:\n",
    "    def removeDuplicates(self, nums: List[int]) -> int:\n",
    "        nums[:]= list(set(nums)) \n",
    "        nums.sort()\n",
    "        return len(nums)\n",
    "```"
   ]
  },
  {
   "cell_type": "markdown",
   "metadata": {},
   "source": [
    "**_result:_** Runtime: 60 ms, faster than 78.86% of Python3 online submissions for Remove Duplicates from Sorted Array.\n",
    "Memory Usage: 15 MB, less than 5.43% of Python3 online submissions for Remove Duplicates from Sorted Array.  \n",
    "\n",
    "**_tips:_** understand the memory mechanism in python"
   ]
  },
  {
   "cell_type": "markdown",
   "metadata": {},
   "source": [
    "## 27. Remove Element\n",
    "\n",
    "Given an array nums and a value val, remove all instances of that value in-place and return the new length.\n",
    "\n",
    "Do not allocate extra space for another array, you must do this by modifying the input array in-place with O(1) extra memory.\n",
    "\n",
    "The order of elements can be changed. It doesn't matter what you leave beyond the new length.\n",
    "\n",
    "Example 1:\n",
    "```\n",
    "Given nums = [3,2,2,3], val = 3,\n",
    "\n",
    "Your function should return length = 2, with the first two elements of nums being 2.\n",
    "\n",
    "It doesn't matter what you leave beyond the returned length.\n",
    "```\n",
    "Example 2:\n",
    "```\n",
    "Given nums = [0,1,2,2,3,0,4,2], val = 2,\n",
    "\n",
    "Your function should return length = 5, with the first five elements of nums containing 0, 1, 3, 0, and 4.\n",
    "\n",
    "Note that the order of those five elements can be arbitrary.\n",
    "\n",
    "It doesn't matter what values are set beyond the returned length.\n",
    "```\n",
    "Clarification:\n",
    "```\n",
    "Confused why the returned value is an integer but your answer is an array?\n",
    "\n",
    "Note that the input array is passed in by reference, which means modification to the input array will be known to the caller as well.\n",
    "\n",
    "Internally you can think of this:\n",
    "\n",
    "// nums is passed in by reference. (i.e., without making a copy)\n",
    "int len = removeElement(nums, val);\n",
    "\n",
    "// any modification to nums in your function would be known by the caller.\n",
    "// using the length returned by your function, it prints the first len elements.\n",
    "for (int i = 0; i < len; i++) {\n",
    "    print(nums[i]);\n",
    "}\n",
    "```"
   ]
  },
  {
   "cell_type": "markdown",
   "metadata": {},
   "source": [
    "```python\n",
    "class Solution:\n",
    "    def removeElement(self, nums: List[int], val: int) -> int:\n",
    "        nums[:] = [num for num in nums if num != val]\n",
    "```"
   ]
  },
  {
   "cell_type": "markdown",
   "metadata": {},
   "source": [
    "**_result: _** Runtime: 40 ms, faster than 63.77% of Python3 online submissions for Remove Element.\n",
    "Memory Usage: 13.1 MB, less than 5.09% of Python3 online submissions for Remove Element."
   ]
  },
  {
   "cell_type": "markdown",
   "metadata": {},
   "source": [
    "## 28. Implement strStr()\n",
    "\n",
    "Implement strStr().\n",
    "\n",
    "Return the index of the first occurrence of needle in haystack, or -1 if needle is not part of haystack.\n",
    "\n",
    "Example 1:\n",
    "```\n",
    "Input: haystack = \"hello\", needle = \"ll\"\n",
    "Output: 2\n",
    "```\n",
    "Example 2:\n",
    "```\n",
    "Input: haystack = \"aaaaa\", needle = \"bba\"\n",
    "Output: -1\n",
    "```\n",
    "Clarification:\n",
    "```\n",
    "What should we return when needle is an empty string? This is a great question to ask during an interview.\n",
    "\n",
    "For the purpose of this problem, we will return 0 when needle is an empty string. This is consistent to C's strstr() and Java's indexOf().\n",
    "```"
   ]
  },
  {
   "cell_type": "markdown",
   "metadata": {},
   "source": [
    "```python\n",
    "class Solution:\n",
    "    def strStr(self, haystack: str, needle: str) -> int:\n",
    "        if needle == '':\n",
    "            return 0\n",
    "        #return haystack.find(needle)\n",
    "        for i in range(len(haystack)+1):\n",
    "            for j in range(len(needle)+1):\n",
    "                if j == len(needle):\n",
    "                    return i\n",
    "                if i+j == len(haystack):\n",
    "                    return -1\n",
    "                if haystack[i+j] != needle[j]:\n",
    "                    break\n",
    "\n",
    "```"
   ]
  },
  {
   "cell_type": "markdown",
   "metadata": {},
   "source": [
    "**_result: _** Runtime: 52 ms, faster than 35.92% of Python3 online submissions for Implement strStr().\n",
    "Memory Usage: 13.2 MB, less than 5.13% of Python3 online submissions for Implement strStr().  \n",
    "    \n",
    "**_tips:_** you can use python build-in function haystack.find(needle)\n",
    "    \n"
   ]
  },
  {
   "cell_type": "markdown",
   "metadata": {},
   "source": [
    "## 35. Search Insert Position\n",
    "\n",
    "Given a sorted array and a target value, return the index if the target is found. If not, return the index where it would be if it were inserted in order.\n",
    "\n",
    "You may assume no duplicates in the array.\n",
    "\n",
    "Example 1:\n",
    "```\n",
    "Input: [1,3,5,6], 5\n",
    "Output: 2\n",
    "```\n",
    "Example 2:\n",
    "```\n",
    "Input: [1,3,5,6], 2\n",
    "Output: 1\n",
    "```\n",
    "Example 3:\n",
    "```\n",
    "Input: [1,3,5,6], 7\n",
    "Output: 4\n",
    "```\n",
    "Example 4:\n",
    "```\n",
    "Input: [1,3,5,6], 0\n",
    "Output: 0\n",
    "```"
   ]
  },
  {
   "cell_type": "markdown",
   "metadata": {},
   "source": [
    "```python\n",
    "import bisect\n",
    "\n",
    "class Solution:\n",
    "    def searchInsert(self, nums: List[int], target: int) -> int:\n",
    "        #return bisect.bisect_left(nums, target)\n",
    "        left = 0\n",
    "        right = len(nums) - 1\n",
    "        \n",
    "        if target > nums[right]: return right+1\n",
    "        while left < right:\n",
    "            mid = left + (right - left) // 2\n",
    "            num = nums[mid]\n",
    "            if target > num:\n",
    "                left = mid + 1\n",
    "            else: right = mid\n",
    "        \n",
    "        return left\n",
    "```"
   ]
  },
  {
   "cell_type": "markdown",
   "metadata": {},
   "source": [
    "**_result:_** Runtime: 40 ms, faster than 57.01% of Python3 online submissions for Search Insert Position.\n",
    "Memory Usage: 13.5 MB, less than 5.11% of Python3 online submissions for Search Insert Position.  \n",
    "    \n",
    "**_tips:_** you can use list.index() or bisect.bisect_left()"
   ]
  },
  {
   "cell_type": "markdown",
   "metadata": {},
   "source": [
    "## 38. Count and Say\n",
    "\n",
    "The count-and-say sequence is the sequence of integers with the first five terms as following:\n",
    "```\n",
    "1.     1\n",
    "2.     11\n",
    "3.     21\n",
    "4.     1211\n",
    "5.     111221\n",
    "```\n",
    "1 is read off as \"one 1\" or 11.\n",
    "11 is read off as \"two 1s\" or 21.\n",
    "21 is read off as \"one 2, then one 1\" or 1211.\n",
    "\n",
    "Given an integer n where 1 ≤ n ≤ 30, generate the nth term of the count-and-say sequence.\n",
    "\n",
    "Note: Each term of the sequence of integers will be represented as a string.\n",
    "\n",
    "Example 1:\n",
    "```\n",
    "Input: 1\n",
    "Output: \"1\"\n",
    "```\n",
    "Example 2:\n",
    "```\n",
    "Input: 4\n",
    "Output: \"1211\"\n",
    "```"
   ]
  },
  {
   "cell_type": "markdown",
   "metadata": {},
   "source": [
    "```python\n",
    "class Solution:\n",
    "    def countAndSay(self, n: int) -> str:\n",
    "        if n == 1:\n",
    "            return '1'\n",
    "        return self.helper(self.countAndSay(n-1))\n",
    "    \n",
    "    def helper(self, s):\n",
    "        result = []\n",
    "        num = s[0]\n",
    "        count = 1\n",
    "        r = ''\n",
    "        for i in range(1, len(s)+1):\n",
    "            if i == len(s):\n",
    "                result.append((str(count), num))\n",
    "                break\n",
    "            if s[i] == num:\n",
    "                count += 1 \n",
    "            else:\n",
    "                result.append((str(count), num))\n",
    "                count = 1\n",
    "                num = s[i]\n",
    "        for count, num in result:\n",
    "            r += (count+num)\n",
    "        return r\n",
    "        \n",
    "```"
   ]
  },
  {
   "cell_type": "markdown",
   "metadata": {},
   "source": [
    "**_result:_** Runtime: 44 ms, faster than 46.15% of Python3 online submissions for Count and Say.\n",
    "Memory Usage: 13.3 MB, less than 5.11% of Python3 online submissions for Count and Say.\n",
    "    "
   ]
  },
  {
   "cell_type": "markdown",
   "metadata": {},
   "source": [
    "## 53. Maximum Subarray \n",
    "\n",
    "Given an integer array nums, find the contiguous subarray (containing at least one number) which has the largest sum and return its sum.\n",
    "\n",
    "Example:\n",
    "```\n",
    "Input: [-2,1,-3,4,-1,2,1,-5,4],\n",
    "Output: 6\n",
    "Explanation: [4,-1,2,1] has the largest sum = 6.\n",
    "```\n",
    "Follow up:\n",
    "\n",
    "If you have figured out the O(n) solution, try coding another solution using the divide and conquer approach, which is more subtle."
   ]
  },
  {
   "cell_type": "markdown",
   "metadata": {},
   "source": [
    "```python\n",
    "class Solution:\n",
    "    def maxSubArray(self, nums: List[int]) -> int:\n",
    "        if len(nums) == 1:\n",
    "            return nums[0]\n",
    "        mid = len(nums) // 2\n",
    "        left = nums[:mid]\n",
    "        right = nums[mid:]\n",
    "        return max(self.helper(left, right), self.maxSubArray(left), self.maxSubArray(right)) \n",
    "    \n",
    "    def helper(self, left, right):\n",
    "        max1 = left[-1]\n",
    "        max2 = right[0]\n",
    "        sum1 = 0\n",
    "        sum2 = 0\n",
    "        \n",
    "        for i in reversed(range(len(left))):\n",
    "            sum1 += left[i]\n",
    "            if sum1 > max1: max1 = sum1\n",
    "        for i in range(len(right)):\n",
    "            sum2 += right[i]\n",
    "            if sum2 > max2: max2 = sum2\n",
    "                \n",
    "        return max1+max2\n",
    "```"
   ]
  },
  {
   "cell_type": "markdown",
   "metadata": {},
   "source": [
    "O(n) solution:  \n",
    "\n",
    "```python\n",
    "class Solution:\n",
    "    def maxSubArray(self, nums: List[int]) -> int:\n",
    "        for i in range(1, len(nums)):\n",
    "            if nums[i-1] > 0:  nums[i] += nums[i-1] \n",
    "            \n",
    "        return max(nums)\n",
    "```"
   ]
  },
  {
   "cell_type": "markdown",
   "metadata": {},
   "source": [
    "**_result:_** Runtime: 48 ms, faster than 68.11% of Python3 online submissions for Maximum Subarray.\n",
    "Memory Usage: 13.7 MB, less than 5.50% of Python3 online submissions for Maximum Subarray.\n",
    "\n",
    "**_tips:_** DP, DC but O(n) is much clever"
   ]
  },
  {
   "cell_type": "markdown",
   "metadata": {},
   "source": [
    "## 58. Length of Last Word\n",
    "\n",
    "Given a string s consists of upper/lower-case alphabets and empty space characters ' ', return the length of last word in the string.\n",
    "\n",
    "If the last word does not exist, return 0.\n",
    "\n",
    "Note: A word is defined as a character sequence consists of non-space characters only.\n",
    "\n",
    "Example:\n",
    "```\n",
    "Input: \"Hello World\"\n",
    "Output: 5\n",
    "```"
   ]
  },
  {
   "cell_type": "markdown",
   "metadata": {},
   "source": [
    "```python\n",
    "class Solution:\n",
    "    def lengthOfLastWord(self, s: str) -> int:\n",
    "        return len(s.rstrip().split(' ')[-1])\n",
    "```"
   ]
  },
  {
   "cell_type": "markdown",
   "metadata": {},
   "source": [
    "**_result:_** Runtime: 36 ms, faster than 69.78% of Python3 online submissions for Length of Last Word.\n",
    "Memory Usage: 13.1 MB, less than 6.04% of Python3 online submissions for Length of Last Word.  \n",
    "\n",
    "**_tips:_** use str.rstrip() to speed up"
   ]
  },
  {
   "cell_type": "code",
   "execution_count": null,
   "metadata": {},
   "outputs": [],
   "source": []
  }
 ],
 "metadata": {
  "kernelspec": {
   "display_name": "Python 3",
   "language": "python",
   "name": "python3"
  },
  "language_info": {
   "codemirror_mode": {
    "name": "ipython",
    "version": 3
   },
   "file_extension": ".py",
   "mimetype": "text/x-python",
   "name": "python",
   "nbconvert_exporter": "python",
   "pygments_lexer": "ipython3",
   "version": "3.6.4"
  }
 },
 "nbformat": 4,
 "nbformat_minor": 2
}
