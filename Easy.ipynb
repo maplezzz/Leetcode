{
 "cells": [
  {
   "cell_type": "markdown",
   "metadata": {},
   "source": [
    "## 1.Two Sum  \n",
    "\n",
    "Given an array of integers, return indices of the two numbers such that they add up to a specific target.  \n",
    "\n",
    "You may assume that each input would have exactly one solution, and you may not use the same element twice.  \n",
    "\n",
    "Example:  \n",
    "```\n",
    "Given nums = [2, 7, 11, 15], target = 9,\n",
    "\n",
    "Because nums[0] + nums[1] = 2 + 7 = 9,\n",
    "return [0, 1].\n",
    "```"
   ]
  },
  {
   "cell_type": "markdown",
   "metadata": {},
   "source": [
    "```python\n",
    "class Solution:\n",
    "    def twoSum(self, nums: List[int], target: int) -> List[int]:\n",
    "        ans = {}\n",
    "        for i, x in enumerate(nums):\n",
    "            if x in ans:\n",
    "                return [ans[x], i]\n",
    "            else:\n",
    "                ans[(target - x)] = i\n",
    "                \n",
    "```"
   ]
  },
  {
   "cell_type": "markdown",
   "metadata": {},
   "source": [
    "**_result_**: \n",
    "Runtime: 40 ms, faster than 79.03% of Python3 online submissions for Two Sum.\n",
    "Memory Usage: 14.7 MB, less than 5.08% of Python3 online submissions for Two Sum."
   ]
  },
  {
   "cell_type": "markdown",
   "metadata": {},
   "source": [
    "**_Tips:_** x in dict much faster than dict.get(x)"
   ]
  },
  {
   "cell_type": "markdown",
   "metadata": {},
   "source": [
    "## 7. Reverse Integer  \n",
    "\n",
    "Example 1:  \n",
    "```\n",
    "Input: 123\n",
    "Output: 321\n",
    "```\n",
    "\n",
    "Example 2:  \n",
    "```\n",
    "Input: -123\n",
    "Output: -321\n",
    "```\n",
    "\n",
    "Example 3:\n",
    "```\n",
    "Input: 120\n",
    "Output: 21\n",
    "```\n",
    "Note:\n",
    "Assume we are dealing with an environment which could only store integers within the 32-bit signed integer range: [−231,  231 − 1]. For the purpose of this problem, assume that your function returns 0 when the reversed integer overflows."
   ]
  },
  {
   "cell_type": "markdown",
   "metadata": {},
   "source": [
    "```python\n",
    "class Solution:\n",
    "    def reverse(self, x: int) -> int:\n",
    "        ans = int(str(abs(x))[::-1])\n",
    "        if ans > 2**31-1:\n",
    "            return 0\n",
    "        if x >=0:\n",
    "            return ans\n",
    "        else:\n",
    "            return -ans\n",
    "```"
   ]
  },
  {
   "cell_type": "markdown",
   "metadata": {},
   "source": [
    "**_result_:**  Runtime: 52 ms, faster than 83.85% of Python3 online submissions for Reverse Integer.\n",
    "Memory Usage: 13.3 MB, less than 5.71% of Python3 online submissions for Reverse Integer."
   ]
  },
  {
   "cell_type": "markdown",
   "metadata": {},
   "source": [
    "## 9. Palindrome Number  \n",
    "\n",
    "Determine whether an integer is a palindrome. An integer is a palindrome when it reads the same backward as forward.\n",
    "\n",
    "Example 1:\n",
    "```\n",
    "Input: 121\n",
    "Output: true\n",
    "```\n",
    "Example 2:\n",
    "```\n",
    "Input: -121\n",
    "Output: false\n",
    "Explanation: From left to right, it reads -121. From right to left, it becomes 121-. Therefore it is not a palindrome.\n",
    "```\n",
    "Example 3:\n",
    "```\n",
    "Input: 10\n",
    "Output: false\n",
    "Explanation: Reads 01 from right to left. Therefore it is not a palindrome.\n",
    "```"
   ]
  },
  {
   "cell_type": "markdown",
   "metadata": {},
   "source": [
    "```python\n",
    "class Solution:\n",
    "    def isPalindrome(self, x: int) -> bool:\n",
    "        return str(x) == str(x)[::-1]\n",
    "```"
   ]
  },
  {
   "cell_type": "markdown",
   "metadata": {},
   "source": [
    "**_result_:** Runtime: 244 ms, faster than 78.81% of Python3 online submissions for Palindrome Number.\n",
    "Memory Usage: 13.3 MB, less than 5.03% of Python3 online submissions for Palindrome Number."
   ]
  },
  {
   "cell_type": "markdown",
   "metadata": {},
   "source": [
    "## 13. Roman to Integer\n",
    "\n",
    "Roman numerals are represented by seven different symbols: I, V, X, L, C, D and M.\n",
    "```\n",
    "Symbol       Value\n",
    "I             1\n",
    "V             5\n",
    "X             10\n",
    "L             50\n",
    "C             100\n",
    "D             500\n",
    "M             1000\n",
    "```\n",
    "For example, two is written as II in Roman numeral, just two one's added together. Twelve is written as, XII, which is simply X + II. The number twenty seven is written as XXVII, which is XX + V + II.\n",
    "\n",
    "Roman numerals are usually written largest to smallest from left to right. However, the numeral for four is not IIII. Instead, the number four is written as IV. Because the one is before the five we subtract it making four. The same principle applies to the number nine, which is written as IX. There are six instances where subtraction is used:\n",
    "\n",
    "I can be placed before V (5) and X (10) to make 4 and 9. \n",
    "X can be placed before L (50) and C (100) to make 40 and 90. \n",
    "C can be placed before D (500) and M (1000) to make 400 and 900.\n",
    "Given a roman numeral, convert it to an integer. Input is guaranteed to be within the range from 1 to 3999.\n",
    "\n",
    "Example 1:\n",
    "```\n",
    "Input: \"III\"\n",
    "Output: 3\n",
    "```\n",
    "Example 2:\n",
    "```\n",
    "Input: \"IV\"\n",
    "Output: 4\n",
    "```\n",
    "Example 3:\n",
    "```\n",
    "Input: \"IX\"\n",
    "Output: 9\n",
    "```\n",
    "Example 4:\n",
    "```\n",
    "Input: \"LVIII\"\n",
    "Output: 58\n",
    "Explanation: L = 50, V= 5, III = 3.\n",
    "```\n",
    "Example 5:\n",
    "```\n",
    "Input: \"MCMXCIV\"\n",
    "Output: 1994\n",
    "Explanation: M = 1000, CM = 900, XC = 90 and IV = 4.\n",
    "```"
   ]
  },
  {
   "cell_type": "markdown",
   "metadata": {},
   "source": [
    "```python\n",
    "class Solution:\n",
    "    def romanToInt(self, s: str) -> int:\n",
    "        r_d = {'I':1, 'V':5, \"X\":10, \"L\":50, \"C\":100, \"D\":500, \"M\":1000}\n",
    "        result = r_d[s[-1]]\n",
    "        \n",
    "        for i in range(len(s)-1):\n",
    "            result += -r_d[s[i]] if r_d[s[i]] < r_d[s[i+1]] else r_d[s[i]]\n",
    "            \n",
    "        return result\n",
    "```"
   ]
  },
  {
   "cell_type": "markdown",
   "metadata": {},
   "source": [
    "**_result:_** Runtime: 128 ms, faster than 70.02% of Python3 online submissions for Roman to Integer.\n",
    "Memory Usage: 13.3 MB, less than 5.05% of Python3 online submissions for Roman to Integer.\n",
    "\n",
    "**_tips:_** The key is if str[i] < str[i+1] means str[i] negeative"
   ]
  },
  {
   "cell_type": "markdown",
   "metadata": {},
   "source": [
    "## 14. Longest Common Prefix\n",
    "\n",
    "Write a function to find the longest common prefix string amongst an array of strings.\n",
    "\n",
    "If there is no common prefix, return an empty string \"\".\n",
    "\n",
    "Example 1:\n",
    "```\n",
    "Input: [\"flower\",\"flow\",\"flight\"]\n",
    "Output: \"fl\"\n",
    "```\n",
    "Example 2:\n",
    "```\n",
    "Input: [\"dog\",\"racecar\",\"car\"]\n",
    "Output: \"\"\n",
    "Explanation: There is no common prefix among the input strings.\n",
    "```\n",
    "Note:\n",
    "\n",
    "All given inputs are in lowercase letters a-z."
   ]
  },
  {
   "cell_type": "markdown",
   "metadata": {},
   "source": [
    "```python\n",
    "class Solution:\n",
    "    def longestCommonPrefix(self, strs: List[str]) -> str:  \n",
    "        pre = ''\n",
    "        if not strs:\n",
    "            return pre\n",
    "        strs.sort()\n",
    "        first = strs[0]\n",
    "        last = strs[-1]\n",
    "        for a, b in zip(first, last):\n",
    "            if a == b:\n",
    "                pre += a\n",
    "            else:\n",
    "                return pre\n",
    "            \n",
    "        return pre\n",
    "```"
   ]
  },
  {
   "cell_type": "markdown",
   "metadata": {},
   "source": [
    "**_result_:** Runtime: 40 ms, faster than 71.61% of Python3 online submissions for Longest Common Prefix.\n",
    "Memory Usage: 13.3 MB, less than 5.10% of Python3 online submissions for Longest Common Prefix.\n",
    "    \n",
    "**_tips_:** sort the list and only need to compare the first and last one, use zip to pythonic the code"
   ]
  },
  {
   "cell_type": "markdown",
   "metadata": {},
   "source": [
    "## 20. Valid Parentheses\n",
    "\n",
    "Given a string containing just the characters '(', ')', '{', '}', '[' and ']', determine if the input string is valid.\n",
    "\n",
    "An input string is valid if:\n",
    "\n",
    "Open brackets must be closed by the same type of brackets.\n",
    "Open brackets must be closed in the correct order.\n",
    "Note that an empty string is also considered valid.\n",
    "\n",
    "Example 1:\n",
    "```\n",
    "Input: \"()\"\n",
    "Output: true\n",
    "```\n",
    "Example 2:\n",
    "```\n",
    "Input: \"()[]{}\"\n",
    "Output: true\n",
    "```\n",
    "Example 3:\n",
    "```\n",
    "Input: \"(]\"\n",
    "Output: false\n",
    "```\n",
    "Example 4:\n",
    "```\n",
    "Input: \"([)]\"\n",
    "Output: false\n",
    "```\n",
    "Example 5:\n",
    "```\n",
    "Input: \"{[]}\"\n",
    "Output: true\n",
    "```"
   ]
  },
  {
   "cell_type": "markdown",
   "metadata": {},
   "source": [
    "```python\n",
    "class Solution:\n",
    "    def isValid(self, s: str) -> bool:\n",
    "        if s == None or len(s) % 2 != 0:\n",
    "            return False\n",
    "        \n",
    "        if s == '':\n",
    "            return True\n",
    "        \n",
    "        dict_p = {')':'(', '}':'{', ']':'['}\n",
    "        \n",
    "        stack = []\n",
    "        \n",
    "        for char in s:\n",
    "            if char in dict_p.values():\n",
    "                stack.append(char)\n",
    "            elif char in dict_p:\n",
    "                if stack == []:\n",
    "                    return False\n",
    "                if stack.pop() != dict_p[char]:\n",
    "                    return False\n",
    "            else:\n",
    "                return False\n",
    "                \n",
    "        if stack == []:\n",
    "            return True\n",
    "        else:\n",
    "            return False\n",
    "```"
   ]
  },
  {
   "cell_type": "markdown",
   "metadata": {},
   "source": [
    "**_result:_**: Runtime: 40 ms, faster than 52.87% of Python3 online submissions for Valid Parentheses.\n",
    "Memory Usage: 13.1 MB, less than 5.22% of Python3 online submissions for Valid Parentheses.  \n",
    "\n",
    "**_tips_:** stack"
   ]
  },
  {
   "cell_type": "code",
   "execution_count": null,
   "metadata": {},
   "outputs": [],
   "source": []
  }
 ],
 "metadata": {
  "kernelspec": {
   "display_name": "Python 3",
   "language": "python",
   "name": "python3"
  },
  "language_info": {
   "codemirror_mode": {
    "name": "ipython",
    "version": 3
   },
   "file_extension": ".py",
   "mimetype": "text/x-python",
   "name": "python",
   "nbconvert_exporter": "python",
   "pygments_lexer": "ipython3",
   "version": "3.6.4"
  }
 },
 "nbformat": 4,
 "nbformat_minor": 2
}
